{
 "cells": [
  {
   "cell_type": "code",
   "execution_count": 5,
   "metadata": {},
   "outputs": [
    {
     "name": "stdin",
     "output_type": "stream",
     "text": [
      " Nat1\n"
     ]
    },
    {
     "name": "stdout",
     "output_type": "stream",
     "text": [
      "This is good pw\n"
     ]
    }
   ],
   "source": [
    "password=input()\n",
    "password_letters=list(password)\n",
    "\n",
    "con_num = False\n",
    "con_upper = False\n",
    "con_lower = False\n",
    "\n",
    "for letter in password_letters:\n",
    "    if letter.isupper():\n",
    "        con_upper=True\n",
    "    if letter.islower():\n",
    "        con_lower=True\n",
    "    if letter.isdigit():\n",
    "        con_num=True\n",
    "        \n",
    "if con_num==True and con_upper==True and con_lower==True:\n",
    "    print(\"This is good pw\")\n",
    "else:\n",
    "    print(\"U suck\")"
   ]
  },
  {
   "cell_type": "code",
   "execution_count": 7,
   "metadata": {},
   "outputs": [
    {
     "name": "stdout",
     "output_type": "stream",
     "text": [
      "This is good pw\n"
     ]
    }
   ],
   "source": [
    "def password_checker(password):\n",
    "    password_letters=list(password)\n",
    "\n",
    "    con_num = False\n",
    "    con_upper = False\n",
    "    con_lower = False\n",
    "\n",
    "    for letter in password_letters:\n",
    "        if letter.isupper():\n",
    "            con_upper=True\n",
    "        if letter.islower():\n",
    "            con_lower=True\n",
    "        if letter.isdigit():\n",
    "            con_num=True\n",
    "\n",
    "    if con_num==True and con_upper==True and con_lower==True:\n",
    "        print(\"This is good pw\")\n",
    "    else:\n",
    "        print(\"U suck\")\n",
    "password_checker(\"Nat1\")"
   ]
  },
  {
   "cell_type": "code",
   "execution_count": null,
   "metadata": {},
   "outputs": [],
   "source": []
  }
 ],
 "metadata": {
  "kernelspec": {
   "display_name": "Python 3",
   "language": "python",
   "name": "python3"
  },
  "language_info": {
   "codemirror_mode": {
    "name": "ipython",
    "version": 3
   },
   "file_extension": ".py",
   "mimetype": "text/x-python",
   "name": "python",
   "nbconvert_exporter": "python",
   "pygments_lexer": "ipython3",
   "version": "3.7.3"
  }
 },
 "nbformat": 4,
 "nbformat_minor": 2
}
